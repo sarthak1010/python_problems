'''Write a Python program to sum all the items in a list.'''

def addList(l_ist):
  sum=0
  for i in l_ist:
    sum += i
  return sum
l=[1,2,3,4,5]  
print(addList(l))
